{
 "cells": [
  {
   "cell_type": "code",
   "execution_count": null,
   "id": "eaf43f3d-df8b-48b3-8793-5e64f6a46fd5",
   "metadata": {},
   "outputs": [],
   "source": [
    "!pip install boto3 plotly\n",
    "\n",
    "import pandas as pd\n",
    "import numpy as np\n",
    "import pyspark.pandas as ps\n",
    "from pyspark.sql import SparkSession\n",
    "import boto3\n",
    "spark = SparkSession.builder.appName(\"PandasOnSparkExample\").getOrCreate()\n",
    "\n",
    "columns = ['StudentID', 'Age', 'Gender', 'Ethnicity', 'ParentalEducation',\n",
    "'StudyTimeWeekly', 'Absences', 'Tutoring', 'ParentalSupport',\n",
    "'Extracurricular', 'Sports', 'Music', 'Volunteering', 'GPA', 'GradeClass']\n",
    "\n",
    "psdf = ps.read_csv('Student_performance_data _.csv', names=columns, header=0)\n",
    "\n",
    "print(psdf.head())\n",
    "\n",
    "print(psdf.columns)\n",
    "print(psdf.dtypes)\n",
    "\n",
    "\n",
    "psdf_cleaned = psdf.dropna()\n",
    "print(psdf_cleaned.head())\n",
    "\n",
    "psdf_cleaned.head()\n",
    "\n",
    "psdf_filled = psdf.fillna(value=0)\n",
    "psdf_filled.head()\n",
    "\n",
    "grouped_psdf = psdf.groupby('Gender').mean()\n",
    "grouped_psdf\n",
    "\n",
    "import matplotlib.pyplot as plt\n",
    "\n",
    "sorted_psdf = psdf.sort_values(by='GPA', ascending=False)\n",
    "print(sorted_psdf.head())\n",
    "\n",
    "\n",
    "psdf['GPA'].plot(kind='hist')\n",
    "plt.plot()\n",
    "\n",
    "psdf['StudyTimeWeekly'].to_pandas().plot(kind='hist')\n",
    "\n",
    "parquet_file = 'student_data.parquet.gzip'\n",
    "psdf.to_parquet(parquet_file, compression='gzip')\n",
    "\n",
    "\n",
    "s3_bucket = 'your-s3-bucket-name'\n",
    "s3_key = 'path/to/save/student_data.parquet.gzip'\n",
    "\n",
    "# Initialize a session using Amazon S3\n",
    "s3 = boto3.client('s3')\n",
    "\n",
    "# Upload the file to S3\n",
    "s3.upload_file(parquet_file, s3_bucket, s3_key)\n",
    "print(f\"File uploaded to s3://{s3_bucket}/{s3_key}\")"
   ]
  },
  {
   "cell_type": "code",
   "execution_count": null,
   "id": "cc70b17d-af12-4d56-bae3-887b58fa7e79",
   "metadata": {},
   "outputs": [],
   "source": []
  }
 ],
 "metadata": {
  "kernelspec": {
   "display_name": "Python 3 (ipykernel)",
   "language": "python",
   "name": "python3"
  },
  "language_info": {
   "codemirror_mode": {
    "name": "ipython",
    "version": 3
   },
   "file_extension": ".py",
   "mimetype": "text/x-python",
   "name": "python",
   "nbconvert_exporter": "python",
   "pygments_lexer": "ipython3",
   "version": "3.11.6"
  }
 },
 "nbformat": 4,
 "nbformat_minor": 5
}
